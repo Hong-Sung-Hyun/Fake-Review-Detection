{
 "cells": [
  {
   "cell_type": "code",
   "execution_count": 7,
   "metadata": {},
   "outputs": [
    {
     "name": "stdout",
     "output_type": "stream",
     "text": [
      "[('review',), ('sqlite_stat1',), ('sqlite_stat2',), ('reviewer',), ('hotel',)]\n",
      "[('review',), ('restaurant',), ('reviewer',)]\n"
     ]
    }
   ],
   "source": [
    "import sqlite3\n",
    "import numpy as np\n",
    "import pandas as pd\n",
    "import matplotlib.pyplot as plt\n",
    "conn1=sqlite3.connect(\"E:\\DATA\\DATA in CU Boulder\\Research\\Misbehavior\\Yelp data\\yelpHotelData.db\")\n",
    "conn2=sqlite3.connect(\"E:\\DATA\\DATA in CU Boulder\\Research\\Misbehavior\\Yelp data\\yelpResData.db\")\n",
    "#conn2.text_factory\n",
    "c1=conn1.cursor()\n",
    "c2=conn2.cursor()\n",
    "\n",
    "c1.execute(\"SELECT name FROM sqlite_master WHERE type='table';\")\n",
    "print(c1.fetchall())\n",
    "c2.execute(\"SELECT name FROM sqlite_master WHERE type='table';\")\n",
    "print(c2.fetchall())\n",
    "#c1.execute(\"select * from review\")\n",
    "#um_purchase_num=pd.DataFrame(cur.fetchall(), columns = [i[0] for i in cur.description])\n"
   ]
  },
  {
   "cell_type": "code",
   "execution_count": 2,
   "metadata": {},
   "outputs": [
    {
     "name": "stdout",
     "output_type": "stream",
     "text": [
      "[('Users',), ('Workspaces',), ('sqlite_sequence',), ('Documents',), ('Revisions',), ('ChatMessages',)]\n"
     ]
    }
   ],
   "source": [
    "conn0=sqlite3.connect(\"C:/Users/yichen/Downloads/collab.db\")\n",
    "c0=conn0.cursor()\n",
    "c0.execute(\"SELECT name FROM sqlite_master WHERE type='table';\")\n",
    "print(c0.fetchall())"
   ]
  },
  {
   "cell_type": "markdown",
   "metadata": {},
   "source": [
    "convert month to yyyy.mm"
   ]
  },
  {
   "cell_type": "code",
   "execution_count": 8,
   "metadata": {
    "collapsed": true
   },
   "outputs": [],
   "source": [
    "c2.execute(\"select yelpJoinDate,count(yelpJoinDate) as count from reviewer group by yelpJoinDate \")\n",
    "joinDate=pd.DataFrame(c2.fetchall(), columns = [i[0] for i in c2.description])\n",
    "#joinDate.to_csv('joindate.csv')\n",
    "joinDate['yelpJoinDate'] = joinDate['yelpJoinDate'].replace('October 2004', '2004.10')\n",
    "joinDate['yelpJoinDate'] = joinDate['yelpJoinDate'].replace('November 2004', '2004.11')\n",
    "joinDate['yelpJoinDate'] = joinDate['yelpJoinDate'].replace('December 2004', '2004.12')\n",
    "\n",
    "joinDate['yelpJoinDate'] = joinDate['yelpJoinDate'].replace('January 2005', '2005.01')\n",
    "joinDate['yelpJoinDate'] = joinDate['yelpJoinDate'].replace('February 2005', '2005.02')\n",
    "joinDate['yelpJoinDate'] = joinDate['yelpJoinDate'].replace('March 2005', '2005.03')\n",
    "joinDate['yelpJoinDate'] = joinDate['yelpJoinDate'].replace('April 2005', '2005.04')\n",
    "joinDate['yelpJoinDate'] = joinDate['yelpJoinDate'].replace('May 2005', '2005.05')\n",
    "joinDate['yelpJoinDate'] = joinDate['yelpJoinDate'].replace('June 2005', '2005.06')\n",
    "joinDate['yelpJoinDate'] = joinDate['yelpJoinDate'].replace('July 2005', '2005.07')\n",
    "joinDate['yelpJoinDate'] = joinDate['yelpJoinDate'].replace('August 2005', '2005.08')\n",
    "joinDate['yelpJoinDate'] = joinDate['yelpJoinDate'].replace('September 2005', '2005.09')\n",
    "joinDate['yelpJoinDate'] = joinDate['yelpJoinDate'].replace('October 2005', '2005.10')\n",
    "joinDate['yelpJoinDate'] = joinDate['yelpJoinDate'].replace('November 2005', '2005.11')\n",
    "joinDate['yelpJoinDate'] = joinDate['yelpJoinDate'].replace('December 2005', '2005.12')\n",
    "\n",
    "joinDate['yelpJoinDate'] = joinDate['yelpJoinDate'].replace('January 2006', '2006.01')\n",
    "joinDate['yelpJoinDate'] = joinDate['yelpJoinDate'].replace('February 2006', '2006.02')\n",
    "joinDate['yelpJoinDate'] = joinDate['yelpJoinDate'].replace('March 2006', '2006.03')\n",
    "joinDate['yelpJoinDate'] = joinDate['yelpJoinDate'].replace('April 2006', '2006.04')\n",
    "joinDate['yelpJoinDate'] = joinDate['yelpJoinDate'].replace('May 2006', '2006.05')\n",
    "joinDate['yelpJoinDate'] = joinDate['yelpJoinDate'].replace('June 2006', '2006.06')\n",
    "joinDate['yelpJoinDate'] = joinDate['yelpJoinDate'].replace('July 2006', '2006.07')\n",
    "joinDate['yelpJoinDate'] = joinDate['yelpJoinDate'].replace('August 2006', '2006.08')\n",
    "joinDate['yelpJoinDate'] = joinDate['yelpJoinDate'].replace('September 2006', '2006.09')\n",
    "joinDate['yelpJoinDate'] = joinDate['yelpJoinDate'].replace('October 2006', '2006.10')\n",
    "joinDate['yelpJoinDate'] = joinDate['yelpJoinDate'].replace('November 2006', '2006.11')\n",
    "joinDate['yelpJoinDate'] = joinDate['yelpJoinDate'].replace('December 2006', '2006.12')\n",
    "\n",
    "joinDate['yelpJoinDate'] = joinDate['yelpJoinDate'].replace('January 2007', '2007.01')\n",
    "joinDate['yelpJoinDate'] = joinDate['yelpJoinDate'].replace('February 2007', '2007.02')\n",
    "joinDate['yelpJoinDate'] = joinDate['yelpJoinDate'].replace('March 2007', '2007.03')\n",
    "joinDate['yelpJoinDate'] = joinDate['yelpJoinDate'].replace('April 2007', '2007.04')\n",
    "joinDate['yelpJoinDate'] = joinDate['yelpJoinDate'].replace('May 2007', '2007.05')\n",
    "joinDate['yelpJoinDate'] = joinDate['yelpJoinDate'].replace('June 2007', '2007.06')\n",
    "joinDate['yelpJoinDate'] = joinDate['yelpJoinDate'].replace('July 2007', '2007.07')\n",
    "joinDate['yelpJoinDate'] = joinDate['yelpJoinDate'].replace('August 2007', '2007.08')\n",
    "joinDate['yelpJoinDate'] = joinDate['yelpJoinDate'].replace('September 2007', '2007.09')\n",
    "joinDate['yelpJoinDate'] = joinDate['yelpJoinDate'].replace('October 2007', '2007.10')\n",
    "joinDate['yelpJoinDate'] = joinDate['yelpJoinDate'].replace('November 2007', '2007.11')\n",
    "joinDate['yelpJoinDate'] = joinDate['yelpJoinDate'].replace('December 2007', '2007.12')\n",
    "\n",
    "joinDate['yelpJoinDate'] = joinDate['yelpJoinDate'].replace('January 2008', '2008.01')\n",
    "joinDate['yelpJoinDate'] = joinDate['yelpJoinDate'].replace('February 2008', '2008.02')\n",
    "joinDate['yelpJoinDate'] = joinDate['yelpJoinDate'].replace('March 2008', '2008.03')\n",
    "joinDate['yelpJoinDate'] = joinDate['yelpJoinDate'].replace('April 2008', '2008.04')\n",
    "joinDate['yelpJoinDate'] = joinDate['yelpJoinDate'].replace('May 2008', '2008.05')\n",
    "joinDate['yelpJoinDate'] = joinDate['yelpJoinDate'].replace('June 2008', '2008.06')\n",
    "joinDate['yelpJoinDate'] = joinDate['yelpJoinDate'].replace('July 2008', '2008.07')\n",
    "joinDate['yelpJoinDate'] = joinDate['yelpJoinDate'].replace('August 2008', '2008.08')\n",
    "joinDate['yelpJoinDate'] = joinDate['yelpJoinDate'].replace('September 2008', '2008.09')\n",
    "joinDate['yelpJoinDate'] = joinDate['yelpJoinDate'].replace('October 2008', '2008.10')\n",
    "joinDate['yelpJoinDate'] = joinDate['yelpJoinDate'].replace('November 2008', '2008.11')\n",
    "joinDate['yelpJoinDate'] = joinDate['yelpJoinDate'].replace('December 2008', '2008.12')\n",
    "\n",
    "joinDate['yelpJoinDate'] = joinDate['yelpJoinDate'].replace('January 2009', '2009.01')\n",
    "joinDate['yelpJoinDate'] = joinDate['yelpJoinDate'].replace('February 2009', '2009.02')\n",
    "joinDate['yelpJoinDate'] = joinDate['yelpJoinDate'].replace('March 2009', '2009.03')\n",
    "joinDate['yelpJoinDate'] = joinDate['yelpJoinDate'].replace('April 2009', '2009.04')\n",
    "joinDate['yelpJoinDate'] = joinDate['yelpJoinDate'].replace('May 2009', '2009.05')\n",
    "joinDate['yelpJoinDate'] = joinDate['yelpJoinDate'].replace('June 2009', '2009.06')\n",
    "joinDate['yelpJoinDate'] = joinDate['yelpJoinDate'].replace('July 2009', '2009.07')\n",
    "joinDate['yelpJoinDate'] = joinDate['yelpJoinDate'].replace('August 2009', '2009.08')\n",
    "joinDate['yelpJoinDate'] = joinDate['yelpJoinDate'].replace('September 2009', '2009.09')\n",
    "joinDate['yelpJoinDate'] = joinDate['yelpJoinDate'].replace('October 2009', '2009.10')\n",
    "joinDate['yelpJoinDate'] = joinDate['yelpJoinDate'].replace('November 2009', '2009.11')\n",
    "joinDate['yelpJoinDate'] = joinDate['yelpJoinDate'].replace('December 2009', '2009.12')\n",
    "\n",
    "joinDate['yelpJoinDate'] = joinDate['yelpJoinDate'].replace('January 2010', '2010.01')\n",
    "joinDate['yelpJoinDate'] = joinDate['yelpJoinDate'].replace('February 2010', '2010.02')\n",
    "joinDate['yelpJoinDate'] = joinDate['yelpJoinDate'].replace('March 2010', '2010.03')\n",
    "joinDate['yelpJoinDate'] = joinDate['yelpJoinDate'].replace('April 2010', '2010.04')\n",
    "joinDate['yelpJoinDate'] = joinDate['yelpJoinDate'].replace('May 2010', '2010.05')\n",
    "joinDate['yelpJoinDate'] = joinDate['yelpJoinDate'].replace('June 2010', '2010.06')\n",
    "joinDate['yelpJoinDate'] = joinDate['yelpJoinDate'].replace('July 2010', '2010.07')\n",
    "joinDate['yelpJoinDate'] = joinDate['yelpJoinDate'].replace('August 2010', '2010.08')\n",
    "joinDate['yelpJoinDate'] = joinDate['yelpJoinDate'].replace('September 2010', '2010.09')\n",
    "joinDate['yelpJoinDate'] = joinDate['yelpJoinDate'].replace('October 2010', '2010.10')\n",
    "joinDate['yelpJoinDate'] = joinDate['yelpJoinDate'].replace('November 2010', '2010.11')\n",
    "joinDate['yelpJoinDate'] = joinDate['yelpJoinDate'].replace('December 2010', '2010.12')\n",
    "\n",
    "joinDate['yelpJoinDate'] = joinDate['yelpJoinDate'].replace('January 2011', '2011.01')\n",
    "joinDate['yelpJoinDate'] = joinDate['yelpJoinDate'].replace('February 2011', '2011.02')\n",
    "joinDate['yelpJoinDate'] = joinDate['yelpJoinDate'].replace('March 2011', '2011.03')\n",
    "joinDate['yelpJoinDate'] = joinDate['yelpJoinDate'].replace('April 2011', '2011.04')\n",
    "joinDate['yelpJoinDate'] = joinDate['yelpJoinDate'].replace('May 2011', '2011.05')\n",
    "joinDate['yelpJoinDate'] = joinDate['yelpJoinDate'].replace('June 2011', '2011.06')\n",
    "joinDate['yelpJoinDate'] = joinDate['yelpJoinDate'].replace('July 2011', '2011.07')\n",
    "joinDate['yelpJoinDate'] = joinDate['yelpJoinDate'].replace('August 2011', '2011.08')\n",
    "joinDate['yelpJoinDate'] = joinDate['yelpJoinDate'].replace('September 2011', '2011.09')\n",
    "joinDate['yelpJoinDate'] = joinDate['yelpJoinDate'].replace('October 2011', '2011.10')\n",
    "joinDate['yelpJoinDate'] = joinDate['yelpJoinDate'].replace('November 2011', '2011.11')\n",
    "joinDate['yelpJoinDate'] = joinDate['yelpJoinDate'].replace('December 2011', '2011.12')\n",
    "\n",
    "joinDate['yelpJoinDate'] = joinDate['yelpJoinDate'].replace('January 2012', '2012.01')\n",
    "joinDate['yelpJoinDate'] = joinDate['yelpJoinDate'].replace('February 2012', '2012.02')\n",
    "joinDate['yelpJoinDate'] = joinDate['yelpJoinDate'].replace('March 2012', '2012.03')\n",
    "joinDate['yelpJoinDate'] = joinDate['yelpJoinDate'].replace('April 2012', '2012.04')\n",
    "joinDate['yelpJoinDate'] = joinDate['yelpJoinDate'].replace('May 2012', '2012.05')\n",
    "joinDate['yelpJoinDate'] = joinDate['yelpJoinDate'].replace('June 2012', '2012.06')\n",
    "joinDate['yelpJoinDate'] = joinDate['yelpJoinDate'].replace('July 2012', '2012.07')\n",
    "joinDate['yelpJoinDate'] = joinDate['yelpJoinDate'].replace('August 2012', '2012.08')\n",
    "joinDate['yelpJoinDate'] = joinDate['yelpJoinDate'].replace('September 2012', '2012.09')"
   ]
  },
  {
   "cell_type": "markdown",
   "metadata": {},
   "source": [
    "**Join date**"
   ]
  },
  {
   "cell_type": "code",
   "execution_count": 7,
   "metadata": {},
   "outputs": [
    {
     "data": {
      "image/png": "[encoded data removed]",
      "text/plain": [
       "<matplotlib.figure.Figure at 0x12ef89c9da0>"
      ]
     },
     "metadata": {},
     "output_type": "display_data"
    }
   ],
   "source": [
    "#print(joinDate)\n",
    "plt.figure(figsize=(20, 2))\n",
    "plt.scatter(joinDate['yelpJoinDate'],joinDate['count'])\n",
    "plt.xticks(rotation='vertical')\n",
    "plt.xlabel('Join Date')\n",
    "plt.ylabel('Number of users')\n",
    "plt.show()"
   ]
  },
  {
   "cell_type": "code",
   "execution_count": 2,
   "metadata": {},
   "outputs": [
    {
     "name": "stdout",
     "output_type": "stream",
     "text": [
      "[(0, 'reviewerID', 'VARCHAR2(30)', 0, None, 0), (1, 'name', 'VARCHAR2(30)', 0, None, 0), (2, 'location', 'VARCHAR2(30)', 0, None, 0), (3, 'yelpJoinDate', 'VARCHAR2(10)', 0, None, 0), (4, 'friendCount', 'INT', 0, None, 0), (5, 'reviewCount', 'INT', 0, None, 0), (6, 'firstCount', 'INT', 0, None, 0), (7, 'usefulCount', 'INT', 0, None, 0), (8, 'coolCount', 'INT', 0, None, 0), (9, 'funnyCount', 'INT', 0, None, 0), (10, 'complimentCount', 'INT', 0, None, 0), (11, 'tipCount', 'INT', 0, None, 0), (12, 'fanCount', 'INT', 0, None, 0)]\n",
      "[(0, 'date', 'varchar2(30)', 0, None, 0), (1, 'reviewID', 'varchar2(30)', 0, None, 1), (2, 'reviewerID', 'varchar2(30)', 0, None, 0), (3, 'reviewContent', 'varchar2(800)', 0, None, 0), (4, 'rating', 'INT', 0, None, 0), (5, 'usefulCount', 'INT', 0, None, 0), (6, 'coolCount', 'INT', 0, None, 0), (7, 'funnyCount', 'INT', 0, None, 0), (8, 'flagged', 'varchar2(3)', 0, None, 0), (9, 'restaurantID', 'varchar2(30)', 0, None, 0)]\n",
      "number of reviewers for hotel: 5123\n",
      "number of reviewers for res: 16941\n",
      "number of valid reviews for hotel: 5858\n",
      "number of valid reviews for res: 67019\n"
     ]
    }
   ],
   "source": [
    "c2.execute(\"PRAGMA table_info(reviewer)\")\n",
    "print(c2.fetchall())\n",
    "c2.execute(\"PRAGMA table_info(review)\")\n",
    "print(c2.fetchall())\n",
    "c1.execute('select count(*) from reviewer')\n",
    "print(\"number of reviewers for hotel:\",c1.fetchall()[0][0])\n",
    "c2.execute('select count(*) from reviewer')\n",
    "print(\"number of reviewers for res:\",c2.fetchall()[0][0])\n",
    "c1.execute(\"select count(*) from review where flagged='N' or flagged= 'Y' \")\n",
    "print(\"number of valid reviews for hotel:\",c1.fetchall()[0][0])\n",
    "c2.execute(\"select count(*) from review where flagged='N' or flagged= 'Y' \")\n",
    "print(\"number of valid reviews for res:\",c2.fetchall()[0][0])"
   ]
  },
  {
   "cell_type": "code",
   "execution_count": 21,
   "metadata": {},
   "outputs": [
    {
     "name": "stdout",
     "output_type": "stream",
     "text": [
      "number of non-filtered reviews for res: 58716\n",
      "number of filtered reviews for res: 8303\n"
     ]
    }
   ],
   "source": [
    "#c1.execute(\"select count(*) from review where flagged='N'\")\n",
    "#print(\"number of non-filtered reviews for hotel:\",c1.fetchall()[0][0])\n",
    "#c1.execute(\"select count(*) from review where flagged='Y'\")\n",
    "#print(\"number of filtered reviews for hotel:\",c1.fetchall()[0][0])\n",
    "\n",
    "c2.execute(\"select count(*) from review where flagged='N'\")\n",
    "print(\"number of non-filtered reviews for res:\",c2.fetchall()[0][0])\n",
    "c2.execute(\"select count(*) from review where flagged='Y'\")\n",
    "print(\"number of filtered reviews for res:\",c2.fetchall()[0][0])"
   ]
  },
  {
   "cell_type": "code",
   "execution_count": 11,
   "metadata": {},
   "outputs": [
    {
     "name": "stdout",
     "output_type": "stream",
     "text": [
      "[(16941,)]\n"
     ]
    }
   ],
   "source": [
    "c2.execute('select count(*) from reviewer')\n",
    "print(c2.fetchall())"
   ]
  },
  {
   "cell_type": "code",
   "execution_count": 10,
   "metadata": {
    "collapsed": true
   },
   "outputs": [],
   "source": [
    "c2.execute('select * from reviewer')\n",
    "reviewer=pd.DataFrame(c2.fetchall(), columns = [i[0] for i in c2.description])\n",
    "#reviewer"
   ]
  },
  {
   "cell_type": "code",
   "execution_count": 18,
   "metadata": {},
   "outputs": [
    {
     "name": "stdout",
     "output_type": "stream",
     "text": [
      "number of reviewers: 16941\n"
     ]
    },
    {
     "data": {
      "image/png": "[encoded data removed]",
      "text/plain": [
       "<matplotlib.figure.Figure at 0x1a587cbc470>"
      ]
     },
     "metadata": {},
     "output_type": "display_data"
    }
   ],
   "source": [
    "print('number of reviewers:',reviewer['friendCount'].count())\n",
    "reviewer_friend200=reviewer[reviewer['friendCount']<100]\n",
    "#print(reviewer_friend200['friendCount'].count())\n",
    "n_bins=5\n",
    "(n, bins, patches) = plt.hist(reviewer_friend200['friendCount'],n_bins, facecolor='blue', alpha=0.5)\n",
    "#print(n,bins)\n",
    "plt.title('Users\\' distribution for number of friends (#friends<100)')\n",
    "plt.xlabel('Number of friends')\n",
    "plt.ylabel('Number of users')\n",
    "plt.show()\n",
    "#print(\"avg friends:\",reviewer_friend200['friendCount'].sum()/reviewer_friend200['friendCount'].count())"
   ]
  },
  {
   "cell_type": "code",
   "execution_count": 16,
   "metadata": {
    "scrolled": true
   },
   "outputs": [
    {
     "data": {
      "image/png": "[encoded data removed]",
      "text/plain": [
       "<matplotlib.figure.Figure at 0x1a5880bc4e0>"
      ]
     },
     "metadata": {},
     "output_type": "display_data"
    }
   ],
   "source": [
    "#reviewer_review200=reviewer[reviewer['reviewCount']<100]\n",
    "#print(reviewer_review200['reviewCount'].count())\n",
    "n_bins=5\n",
    "(n, bins, patches) = plt.hist(reviewer_review200['reviewCount'],n_bins, facecolor='blue', alpha=0.5)\n",
    "plt.title('Users\\' distribution for number of reviews (#reviews<100)')\n",
    "plt.xlabel('Number of reivews')\n",
    "plt.ylabel('Number of users')\n",
    "plt.show()\n",
    "plt.show()\n",
    "#print(\"avg reviews for each reviewer:\",reviewer_review200['reviewCount'].sum()/reviewer_review200['friendCount'].count())"
   ]
  },
  {
   "cell_type": "code",
   "execution_count": 18,
   "metadata": {
    "collapsed": true
   },
   "outputs": [],
   "source": [
    "c2.execute(\"select reviewerID, reviewID,restaurantID, date, rating,usefulCount as usefulCount_review,flagged  from review where flagged='Y' or flagged='N'\")\n",
    "review_info=pd.DataFrame(c2.fetchall(), columns = [i[0] for i in c2.description])"
   ]
  },
  {
   "cell_type": "code",
   "execution_count": 17,
   "metadata": {
    "collapsed": true
   },
   "outputs": [],
   "source": [
    "c2.execute(\"select restaurantID from restaurant\")\n",
    "res=pd.DataFrame(c2.fetchall(), columns = [i[0] for i in c2.description])"
   ]
  },
  {
   "cell_type": "code",
   "execution_count": 6,
   "metadata": {},
   "outputs": [],
   "source": [
    "temp=pd.merge(res,review_info,on='restaurantID',how='inner')"
   ]
  },
  {
   "cell_type": "code",
   "execution_count": 34,
   "metadata": {},
   "outputs": [
    {
     "name": "stdout",
     "output_type": "stream",
     "text": [
      "avg rating for filtered reviews: 3.86390461279\n",
      "avg rating for non-filtered reviews: 3.99320457797\n",
      "avg rating for reviews: 3.97718557424\n",
      "4.0\n",
      "4.0\n"
     ]
    }
   ],
   "source": [
    "filtered_review=review_info[review_info['flagged']=='Y']\n",
    "nonfiltered_review=review_info[review_info['flagged']=='N']\n",
    "#print(filtered_review)\n",
    "print('avg rating for filtered reviews:',filtered_review['rating'].sum()/filtered_review['rating'].count())\n",
    "print('avg rating for non-filtered reviews:',nonfiltered_review['rating'].sum()/nonfiltered_review['rating'].count())\n",
    "print('avg rating for reviews:',(nonfiltered_review['rating'].sum()+filtered_review['rating'].sum())/(nonfiltered_review['rating'].count()+filtered_review['rating'].count()))\n",
    "print(filtered_review['rating'].median())\n",
    "print(nonfiltered_review['rating'].median())"
   ]
  },
  {
   "cell_type": "markdown",
   "metadata": {},
   "source": [
    "**Rating distribution**"
   ]
  },
  {
   "cell_type": "code",
   "execution_count": 38,
   "metadata": {},
   "outputs": [
    {
     "data": {
      "image/png": "[encoded data removed]",
      "text/plain": [
       "<matplotlib.figure.Figure at 0x12efc6402b0>"
      ]
     },
     "metadata": {},
     "output_type": "display_data"
    },
    {
     "data": {
      "image/png": "[encoded data removed]",
      "text/plain": [
       "<matplotlib.figure.Figure at 0x12efcfd54a8>"
      ]
     },
     "metadata": {},
     "output_type": "display_data"
    },
    {
     "data": {
      "image/png": "[encoded data removed]",
      "text/plain": [
       "<matplotlib.figure.Figure at 0x12ef8ab5908>"
      ]
     },
     "metadata": {},
     "output_type": "display_data"
    },
    {
     "data": {
      "image/png": "[encoded data removed]",
      "text/plain": [
       "<matplotlib.figure.Figure at 0x12efd131898>"
      ]
     },
     "metadata": {},
     "output_type": "display_data"
    }
   ],
   "source": [
    "#plt.figure(figsize=(20, 2))\n",
    "\n",
    "n_bins=5\n",
    "plt.hist(filtered_review['rating'],n_bins, facecolor='blue', alpha=1)\n",
    "plt.xlabel('rating')\n",
    "plt.ylabel('#reviews')\n",
    "plt.title(\"rating distribution for filtered reviews\")\n",
    "plt.show()\n",
    "plt.hist(nonfiltered_review['rating'],n_bins, facecolor='blue', alpha=1)\n",
    "plt.title(\"rating distribution for non-filtered reviews\")\n",
    "plt.xlabel('rating')\n",
    "plt.ylabel('#reviews')\n",
    "plt.show()\n",
    "\n",
    "labels = ['1', '2', '3', '4','5']\n",
    "t=filtered_review.groupby(['rating'])\n",
    "plt.pie(t.size(),labels=labels,autopct='%1.2f%%')\n",
    "plt.title(\"rating distribution for filtered reviews\")\n",
    "plt.show()\n",
    "\n",
    "t2=nonfiltered_review.groupby(['rating'])\n",
    "plt.pie(t2.size(),labels=labels,autopct='%1.2f%%')\n",
    "plt.title(\"rating distribution for non-filtered reviews\")\n",
    "plt.show()"
   ]
  },
  {
   "cell_type": "code",
   "execution_count": 1,
   "metadata": {
    "collapsed": true
   },
   "outputs": [],
   "source": [
    "review_reviewer=pd.merge(review_info,reviewer,on='reviewerID',how='left')\n",
    "#review_info['reviewerID']=review_info['reviewerID'].str.lower()\n",
    "#reviewer['reviewerID']=reviewer['reviewerID'].str.lower()\n",
    "review_reviewer_inner=pd.merge(review_info,reviewer,on='reviewerID',how='inner')"
   ]
  },
  {
   "cell_type": "code",
   "execution_count": 16,
   "metadata": {},
   "outputs": [
    {
     "name": "stdout",
     "output_type": "stream",
     "text": [
      "avg friends of users who have filtered reviews: 2.31587386424372\n",
      "avg friends of users who don't have filtered reviews: 28.9110169492\n"
     ]
    }
   ],
   "source": [
    "filtered_review_reviewer=review_reviewer_inner[review_reviewer_inner['flagged']=='Y']\n",
    "nonfiltered_review_reviewer=review_reviewer_inner[review_reviewer_inner['flagged']=='N']\n",
    "reviewers_filtered=filtered_review_reviewer['reviewerID'].drop_duplicates()\n",
    "y=reviewer['reviewerID']\n",
    "reviewers_nonfiltered=y[~y.isin(reviewers_filtered)].dropna()\n",
    "reviewers_nonfiltered=pd.DataFrame({'reviewerID':reviewers_nonfiltered.values})\n",
    "reviewers_filtered=pd.DataFrame({'reviewerID':reviewers_filtered.values})\n",
    "non_fake_reviewers=pd.merge(reviewer,reviewers_nonfiltered,on='reviewerID',how='inner')\n",
    "fake_reviewers=pd.merge(reviewer,reviewers_filtered,on='reviewerID',how='inner')\n",
    "print('avg friends of users who have filtered reviews:',fake_reviewers['friendCount'].sum()/len(reviewers_filtered))\n",
    "\n",
    "print('avg friends of users who don\\'t have filtered reviews:',non_fake_reviewers['friendCount'].sum()/non_fake_reviewers.groupby('reviewerID').size().count())"
   ]
  },
  {
   "cell_type": "code",
   "execution_count": 17,
   "metadata": {},
   "outputs": [
    {
     "name": "stdout",
     "output_type": "stream",
     "text": [
      "avg reviews of users who have filtered reviews: 6.187956529485124\n",
      "avg reviews of users who don't have filtered reviews: 58.4317620056\n"
     ]
    }
   ],
   "source": [
    "\n",
    "print('avg reviews of users who have filtered reviews:',fake_reviewers['reviewCount'].sum()/len(reviewers_filtered))\n",
    "\n",
    "print('avg reviews of users who don\\'t have filtered reviews:',non_fake_reviewers['reviewCount'].sum()/non_fake_reviewers.groupby('reviewerID').size().count())"
   ]
  },
  {
   "cell_type": "code",
   "execution_count": 397,
   "metadata": {
    "collapsed": true
   },
   "outputs": [],
   "source": [
    "query=\"select reviewerID, sum(case when flagged='Y' then 1 else 0 end) as filteredCount from review group by reviewerID\"\n",
    "c2.execute(query)\n",
    "filteredCount=pd.DataFrame(c2.fetchall(), columns = [i[0] for i in c2.description])"
   ]
  },
  {
   "cell_type": "code",
   "execution_count": 399,
   "metadata": {
    "collapsed": true
   },
   "outputs": [],
   "source": [
    "review_reviewer_info=pd.merge(filteredCount,review_reviewer_inner,on='reviewerID',how='inner')"
   ]
  },
  {
   "cell_type": "code",
   "execution_count": 403,
   "metadata": {
    "collapsed": true
   },
   "outputs": [],
   "source": [
    "review_reviewer_info['filtered_percentage']=review_reviewer_info['filteredCount']/review_reviewer_info['reviewCount']"
   ]
  },
  {
   "cell_type": "code",
   "execution_count": 573,
   "metadata": {},
   "outputs": [
    {
     "name": "stderr",
     "output_type": "stream",
     "text": [
      "E:\\Tools\\Anaconda3\\lib\\site-packages\\ipykernel_launcher.py:1: SettingWithCopyWarning: \n",
      "A value is trying to be set on a copy of a slice from a DataFrame\n",
      "\n",
      "See the caveats in the documentation: http://pandas.pydata.org/pandas-docs/stable/indexing.html#indexing-view-versus-copy\n",
      "  \"\"\"Entry point for launching an IPython kernel.\n"
     ]
    }
   ],
   "source": [
    "review_info['date'][67017]='1/8/2011'"
   ]
  },
  {
   "cell_type": "code",
   "execution_count": 574,
   "metadata": {},
   "outputs": [
    {
     "name": "stdout",
     "output_type": "stream",
     "text": [
      "67017\n",
      "67018\n"
     ]
    },
    {
     "name": "stderr",
     "output_type": "stream",
     "text": [
      "E:\\Tools\\Anaconda3\\lib\\site-packages\\ipykernel_launcher.py:6: SettingWithCopyWarning: \n",
      "A value is trying to be set on a copy of a slice from a DataFrame\n",
      "\n",
      "See the caveats in the documentation: http://pandas.pydata.org/pandas-docs/stable/indexing.html#indexing-view-versus-copy\n",
      "  \n"
     ]
    }
   ],
   "source": [
    "from datetime import datetime\n",
    "date_format = \"%m/%d/%Y\"\n",
    "for i in range(67017,len(review_info['date'])):\n",
    "    if(review_info['date'][i][0]=='\\n'):\n",
    "        review_info['date'][i]=review_info['date'][i][1:]\n",
    "    reviewInfo['date'][i]=datetime.strptime(review_info['date'][i], date_format)\n",
    "    print(i)"
   ]
  },
  {
   "cell_type": "code",
   "execution_count": 597,
   "metadata": {
    "collapsed": true
   },
   "outputs": [],
   "source": [
    "date_max=reviewInfo.groupby('reviewerID'x)['date'].max()\n",
    "date_min=reviewInfo.groupby('reviewerID',as_index=False)['date'].min()\n",
    "date_counts=reviewInfo.groupby('reviewerID',as_index=False)['date'].count()"
   ]
  },
  {
   "cell_type": "code",
   "execution_count": 617,
   "metadata": {
    "collapsed": true
   },
   "outputs": [],
   "source": [
    "date_max.columns=['reviewerID','date_max']\n",
    "date_min.columns=['reviewerID','date_min']\n",
    "date_counts.columns=['reviewerID','counts']"
   ]
  },
  {
   "cell_type": "code",
   "execution_count": 619,
   "metadata": {
    "collapsed": true
   },
   "outputs": [],
   "source": [
    "tt=pd.merge(date_max,date_min,on='reviewerID',how='inner')\n",
    "ttt=pd.merge(tt,date_counts,on='reviewerID',how='inner')"
   ]
  },
  {
   "cell_type": "code",
   "execution_count": 663,
   "metadata": {
    "collapsed": true
   },
   "outputs": [],
   "source": [
    "ttt['avgDaysBetweenReviews']=(ttt['date_max']-ttt['date_min'])/ttt['counts']"
   ]
  },
  {
   "cell_type": "code",
   "execution_count": 672,
   "metadata": {
    "collapsed": true
   },
   "outputs": [],
   "source": [
    "ttt.loc[:,'averageDaysBetweenReviews']=0.5"
   ]
  },
  {
   "cell_type": "code",
   "execution_count": 676,
   "metadata": {},
   "outputs": [
    {
     "name": "stderr",
     "output_type": "stream",
     "text": [
      "E:\\Tools\\Anaconda3\\lib\\site-packages\\ipykernel_launcher.py:5: SettingWithCopyWarning: \n",
      "A value is trying to be set on a copy of a slice from a DataFrame\n",
      "\n",
      "See the caveats in the documentation: http://pandas.pydata.org/pandas-docs/stable/indexing.html#indexing-view-versus-copy\n",
      "  \"\"\"\n"
     ]
    }
   ],
   "source": [
    "for i in range(0,len(ttt['avgDaysBetweenReviews'])):\n",
    "    #ttt['avgDaysBetweenReviews'][i]=ttt['avgDaysBetweenReviews'][i].days+ttt['avgDaysBetweenReviews'][i].seconds/86400\n",
    "    a=ttt['avgDaysBetweenReviews'][i].days\n",
    "    b=ttt['avgDaysBetweenReviews'][i].seconds/86400\n",
    "    ttt['averageDaysBetweenReviews'][i]=a+b"
   ]
  },
  {
   "cell_type": "code",
   "execution_count": 685,
   "metadata": {
    "collapsed": true
   },
   "outputs": [],
   "source": [
    "all_info=pd.merge(ttt,review_reviewer_inner,how='inner',on='reviewerID')"
   ]
  },
  {
   "cell_type": "code",
   "execution_count": 2,
   "metadata": {},
   "outputs": [],
   "source": [
    "all_info.to_csv('info.csv',sep =',')\n",
    "test=pd.read_csv('info.csv',encoding='gb2312')\n",
    "#test"
   ]
  },
  {
   "cell_type": "code",
   "execution_count": 329,
   "metadata": {
    "collapsed": true
   },
   "outputs": [],
   "source": [
    "reviewer_lst = list(set(reviewer.reviewerID.values.tolist()))"
   ]
  },
  {
   "cell_type": "code",
   "execution_count": 331,
   "metadata": {
    "collapsed": true
   },
   "outputs": [],
   "source": [
    "reviewer_list_2 = list(set(review_info.reviewerID.values.tolist()))"
   ]
  },
  {
   "cell_type": "markdown",
   "metadata": {},
   "source": [
    "**restaurant related info**"
   ]
  },
  {
   "cell_type": "code",
   "execution_count": 40,
   "metadata": {},
   "outputs": [
    {
     "name": "stdout",
     "output_type": "stream",
     "text": [
      "[]\n",
      "[(0, 'restaurantID', 'varchar2(30)', 0, None, 1), (1, 'name', 'varchar2(30)', 0, None, 0), (2, 'location', 'varchar2(30)', 0, None, 0), (3, 'reviewCount', 'INT', 0, None, 0), (4, 'rating', 'NUMBER', 0, None, 0), (5, 'categories', 'varchar2(500)', 0, None, 0), (6, 'address', 'varchar2(30)', 0, None, 0), (7, 'Hours', 'varchar2(30)', 0, None, 0), (8, 'GoodforKids', 'varchar2(30)', 0, None, 0), (9, 'AcceptsCreditCards', 'varchar2(30)', 0, None, 0), (10, 'Parking', 'varchar2(30)', 0, None, 0), (11, 'Attire', 'varchar2(30)', 0, None, 0), (12, 'GoodforGroups', 'varchar2(30)', 0, None, 0), (13, 'PriceRange', 'varchar2(30)', 0, None, 0), (14, 'TakesReservations', 'varchar2(30)', 0, None, 0), (15, 'Delivery', 'varchar2(30)', 0, None, 0), (16, 'Takeout', 'varchar2(30)', 0, None, 0), (17, 'WaiterService', 'varchar2(30)', 0, None, 0), (18, 'OutdoorSeating', 'varchar2(30)', 0, None, 0), (19, 'WiFi', 'varchar2(30)', 0, None, 0), (20, 'GoodFor', 'varchar2(30)', 0, None, 0), (21, 'Alcohol', 'varchar2(30)', 0, None, 0), (22, 'NoiseLevel', 'varchar2(30)', 0, None, 0), (23, 'Ambience', 'varchar2(30)', 0, None, 0), (24, 'HasTV', 'varchar2(30)', 0, None, 0), (25, 'Caters', 'varchar2(30)', 0, None, 0), (26, 'WheelchairAccessible', 'varchar2(30)', 0, None, 0), (27, 'webSite', 'varchar2(30)', 0, None, 0), (28, 'phoneNumber', 'varchar2(30)', 0, None, 0), (29, 'filReviewCount', 'INT', 0, None, 0)]\n",
      "[(0, 'date', 'varchar2(30)', 0, None, 0), (1, 'reviewID', 'varchar2(30)', 0, None, 1), (2, 'reviewerID', 'varchar2(30)', 0, None, 0), (3, 'reviewContent', 'varchar2(800)', 0, None, 0), (4, 'rating', 'INT', 0, None, 0), (5, 'usefulCount', 'INT', 0, None, 0), (6, 'coolCount', 'INT', 0, None, 0), (7, 'funnyCount', 'INT', 0, None, 0), (8, 'flagged', 'varchar2(3)', 0, None, 0), (9, 'restaurantID', 'varchar2(30)', 0, None, 0)]\n"
     ]
    }
   ],
   "source": [
    "print(c2.fetchall())\n",
    "c2.execute(\"PRAGMA table_info(restaurant)\")\n",
    "print(c2.fetchall())\n",
    "c2.execute(\"PRAGMA table_info(review)\")\n",
    "print(c2.fetchall())"
   ]
  },
  {
   "cell_type": "code",
   "execution_count": 3,
   "metadata": {
    "collapsed": true
   },
   "outputs": [],
   "source": [
    "c2.execute('select restaurantID,location,reviewCount,rating,categories,GoodFor,filReviewCount from restaurant')\n",
    "resInfo=pd.DataFrame(c2.fetchall(), columns = [i[0] for i in c2.description])"
   ]
  },
  {
   "cell_type": "code",
   "execution_count": 13,
   "metadata": {
    "collapsed": true
   },
   "outputs": [],
   "source": [
    "c2.execute(\"select reviewerID, reviewID,restaurantID, date, rating,usefulCount as usefulCount_review,flagged  from review where flagged='Y' or flagged='N'\")\n",
    "review_info=pd.DataFrame(c2.fetchall(), columns = [i[0] for i in c2.description])"
   ]
  },
  {
   "cell_type": "code",
   "execution_count": 30,
   "metadata": {
    "collapsed": true
   },
   "outputs": [],
   "source": [
    "#review_res=pd.merge(resInfo,review_info,on='restaurantID',how='inner')\n",
    "#res_num=review_res.restaurantID.unique()\n",
    "#res_temporal=review_res[['restaurantID','reviewCount','rating_x','reviewID','date','rating_y','flagged']]\n",
    "res_falgged_rev=res_temporal[res_temporal['flagged']=='Y']"
   ]
  },
  {
   "cell_type": "code",
   "execution_count": 14,
   "metadata": {},
   "outputs": [
    {
     "name": "stderr",
     "output_type": "stream",
     "text": [
      "E:\\Tools\\Anaconda3\\lib\\site-packages\\ipykernel_launcher.py:7: SettingWithCopyWarning: \n",
      "A value is trying to be set on a copy of a slice from a DataFrame\n",
      "\n",
      "See the caveats in the documentation: http://pandas.pydata.org/pandas-docs/stable/indexing.html#indexing-view-versus-copy\n",
      "  import sys\n"
     ]
    }
   ],
   "source": [
    "#res_flagged_sorted=res_falgged_rev.groupby([\"restaurantID\"], sort=False).apply(lambda x: x.sort_values([\"date\"]))\n",
    "#res_flagged_sorted['date'][0]\n",
    "lst1=[]\n",
    "lst2=[]\n",
    "for i in range(len(review_info['date'])):\n",
    "    if review_info['date'][i][0]=='\\n':\n",
    "        review_info['date'][i]=review_info['date'][i][1:]\n",
    "    if review_info['date'][i][0]=='U':\n",
    "        lst2.append(i)\n"
   ]
  },
  {
   "cell_type": "code",
   "execution_count": 16,
   "metadata": {},
   "outputs": [
    {
     "name": "stderr",
     "output_type": "stream",
     "text": [
      "E:\\Tools\\Anaconda3\\lib\\site-packages\\ipykernel_launcher.py:1: SettingWithCopyWarning: \n",
      "A value is trying to be set on a copy of a slice from a DataFrame\n",
      "\n",
      "See the caveats in the documentation: http://pandas.pydata.org/pandas-docs/stable/indexing.html#indexing-view-versus-copy\n",
      "  \"\"\"Entry point for launching an IPython kernel.\n"
     ]
    }
   ],
   "source": [
    "review_info['date'][66922]='4/13/2012'"
   ]
  },
  {
   "cell_type": "code",
   "execution_count": 4,
   "metadata": {},
   "outputs": [],
   "source": [
    "review_info['date']=pd.to_datetime(review_info['date'])\n",
    "#review_info"
   ]
  },
  {
   "cell_type": "code",
   "execution_count": 5,
   "metadata": {},
   "outputs": [],
   "source": [
    "res_flagged_sorted=review_info.groupby([\"restaurantID\"], sort=False).apply(lambda x: x.sort_values([\"date\"]))"
   ]
  },
  {
   "cell_type": "code",
   "execution_count": null,
   "metadata": {
    "collapsed": true
   },
   "outputs": [],
   "source": []
  }
 ],
 "metadata": {
  "kernelspec": {
   "display_name": "Python 3",
   "language": "python",
   "name": "python3"
  },
  "language_info": {
   "codemirror_mode": {
    "name": "ipython",
    "version": 3
   },
   "file_extension": ".py",
   "mimetype": "text/x-python",
   "name": "python",
   "nbconvert_exporter": "python",
   "pygments_lexer": "ipython3",
   "version": "3.6.3"
  }
 },
 "nbformat": 4,
 "nbformat_minor": 2
}
