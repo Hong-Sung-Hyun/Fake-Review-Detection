{
 "cells": [
  {
   "cell_type": "code",
   "execution_count": 3,
   "metadata": {},
   "outputs": [
    {
     "name": "stdout",
     "output_type": "stream",
     "text": [
      "[('review',), ('sqlite_stat1',), ('sqlite_stat2',), ('reviewer',), ('hotel',)]\n",
      "[('review',), ('restaurant',), ('reviewer',)]\n"
     ]
    }
   ],
   "source": [
    "import sqlite3\n",
    "import numpy as np\n",
    "import pandas as pd\n",
    "import matplotlib.pyplot as plt\n",
    "from itertools import combinations\n",
    "from collections import Counter\n",
    "import statistics\n",
    "from scipy import stats\n",
    "from datetime import datetime\n",
    "import dateutil.parser as dparser\n",
    "conn1=sqlite3.connect(\"E:\\DATA\\DATA in CU Boulder\\Research\\Misbehavior\\Yelp data\\yelpHotelData.db\")\n",
    "conn2=sqlite3.connect(\"E:\\DATA\\DATA in CU Boulder\\Research\\Misbehavior\\Yelp data\\yelpResData.db\")\n",
    "conn1.text_factory = lambda x : str(x, 'gb2312', 'ignore')\n",
    "conn2.text_factory = lambda x : str(x, 'gb2312', 'ignore')\n",
    "#conn2.text_factory\n",
    "c1=conn1.cursor()\n",
    "c2=conn2.cursor()\n",
    "\n",
    "c1.execute(\"SELECT name FROM sqlite_master WHERE type='table';\")\n",
    "print(c1.fetchall())\n",
    "c2.execute(\"SELECT name FROM sqlite_master WHERE type='table';\")\n",
    "print(c2.fetchall())\n",
    "#c1.execute(\"select * from review\")\n",
    "#um_purchase_num=pd.DataFrame(cur.fetchall(), columns = [i[0] for i in cur.description])\n"
   ]
  },
  {
   "cell_type": "code",
   "execution_count": 42,
   "metadata": {
    "collapsed": true
   },
   "outputs": [],
   "source": [
    "%matplotlib inline"
   ]
  },
  {
   "cell_type": "markdown",
   "metadata": {},
   "source": [
    "__convert month to yyyy.mm__"
   ]
  },
  {
   "cell_type": "code",
   "execution_count": 4,
   "metadata": {
    "collapsed": true
   },
   "outputs": [],
   "source": [
    "c2.execute(\"select yelpJoinDate,count(yelpJoinDate) as count from reviewer group by yelpJoinDate \")\n",
    "joinDate=pd.DataFrame(c2.fetchall(), columns = [i[0] for i in c2.description])\n",
    "#joinDate.to_csv('joindate.csv')\n",
    "joinDate['yelpJoinDate'] = joinDate['yelpJoinDate'].replace('October 2004', '2004.10')\n",
    "joinDate['yelpJoinDate'] = joinDate['yelpJoinDate'].replace('November 2004', '2004.11')\n",
    "joinDate['yelpJoinDate'] = joinDate['yelpJoinDate'].replace('December 2004', '2004.12')\n",
    "\n",
    "joinDate['yelpJoinDate'] = joinDate['yelpJoinDate'].replace('January 2005', '2005.01')\n",
    "joinDate['yelpJoinDate'] = joinDate['yelpJoinDate'].replace('February 2005', '2005.02')\n",
    "joinDate['yelpJoinDate'] = joinDate['yelpJoinDate'].replace('March 2005', '2005.03')\n",
    "joinDate['yelpJoinDate'] = joinDate['yelpJoinDate'].replace('April 2005', '2005.04')\n",
    "joinDate['yelpJoinDate'] = joinDate['yelpJoinDate'].replace('May 2005', '2005.05')\n",
    "joinDate['yelpJoinDate'] = joinDate['yelpJoinDate'].replace('June 2005', '2005.06')\n",
    "joinDate['yelpJoinDate'] = joinDate['yelpJoinDate'].replace('July 2005', '2005.07')\n",
    "joinDate['yelpJoinDate'] = joinDate['yelpJoinDate'].replace('August 2005', '2005.08')\n",
    "joinDate['yelpJoinDate'] = joinDate['yelpJoinDate'].replace('September 2005', '2005.09')\n",
    "joinDate['yelpJoinDate'] = joinDate['yelpJoinDate'].replace('October 2005', '2005.10')\n",
    "joinDate['yelpJoinDate'] = joinDate['yelpJoinDate'].replace('November 2005', '2005.11')\n",
    "joinDate['yelpJoinDate'] = joinDate['yelpJoinDate'].replace('December 2005', '2005.12')\n",
    "\n",
    "joinDate['yelpJoinDate'] = joinDate['yelpJoinDate'].replace('January 2006', '2006.01')\n",
    "joinDate['yelpJoinDate'] = joinDate['yelpJoinDate'].replace('February 2006', '2006.02')\n",
    "joinDate['yelpJoinDate'] = joinDate['yelpJoinDate'].replace('March 2006', '2006.03')\n",
    "joinDate['yelpJoinDate'] = joinDate['yelpJoinDate'].replace('April 2006', '2006.04')\n",
    "joinDate['yelpJoinDate'] = joinDate['yelpJoinDate'].replace('May 2006', '2006.05')\n",
    "joinDate['yelpJoinDate'] = joinDate['yelpJoinDate'].replace('June 2006', '2006.06')\n",
    "joinDate['yelpJoinDate'] = joinDate['yelpJoinDate'].replace('July 2006', '2006.07')\n",
    "joinDate['yelpJoinDate'] = joinDate['yelpJoinDate'].replace('August 2006', '2006.08')\n",
    "joinDate['yelpJoinDate'] = joinDate['yelpJoinDate'].replace('September 2006', '2006.09')\n",
    "joinDate['yelpJoinDate'] = joinDate['yelpJoinDate'].replace('October 2006', '2006.10')\n",
    "joinDate['yelpJoinDate'] = joinDate['yelpJoinDate'].replace('November 2006', '2006.11')\n",
    "joinDate['yelpJoinDate'] = joinDate['yelpJoinDate'].replace('December 2006', '2006.12')\n",
    "\n",
    "joinDate['yelpJoinDate'] = joinDate['yelpJoinDate'].replace('January 2007', '2007.01')\n",
    "joinDate['yelpJoinDate'] = joinDate['yelpJoinDate'].replace('February 2007', '2007.02')\n",
    "joinDate['yelpJoinDate'] = joinDate['yelpJoinDate'].replace('March 2007', '2007.03')\n",
    "joinDate['yelpJoinDate'] = joinDate['yelpJoinDate'].replace('April 2007', '2007.04')\n",
    "joinDate['yelpJoinDate'] = joinDate['yelpJoinDate'].replace('May 2007', '2007.05')\n",
    "joinDate['yelpJoinDate'] = joinDate['yelpJoinDate'].replace('June 2007', '2007.06')\n",
    "joinDate['yelpJoinDate'] = joinDate['yelpJoinDate'].replace('July 2007', '2007.07')\n",
    "joinDate['yelpJoinDate'] = joinDate['yelpJoinDate'].replace('August 2007', '2007.08')\n",
    "joinDate['yelpJoinDate'] = joinDate['yelpJoinDate'].replace('September 2007', '2007.09')\n",
    "joinDate['yelpJoinDate'] = joinDate['yelpJoinDate'].replace('October 2007', '2007.10')\n",
    "joinDate['yelpJoinDate'] = joinDate['yelpJoinDate'].replace('November 2007', '2007.11')\n",
    "joinDate['yelpJoinDate'] = joinDate['yelpJoinDate'].replace('December 2007', '2007.12')\n",
    "\n",
    "joinDate['yelpJoinDate'] = joinDate['yelpJoinDate'].replace('January 2008', '2008.01')\n",
    "joinDate['yelpJoinDate'] = joinDate['yelpJoinDate'].replace('February 2008', '2008.02')\n",
    "joinDate['yelpJoinDate'] = joinDate['yelpJoinDate'].replace('March 2008', '2008.03')\n",
    "joinDate['yelpJoinDate'] = joinDate['yelpJoinDate'].replace('April 2008', '2008.04')\n",
    "joinDate['yelpJoinDate'] = joinDate['yelpJoinDate'].replace('May 2008', '2008.05')\n",
    "joinDate['yelpJoinDate'] = joinDate['yelpJoinDate'].replace('June 2008', '2008.06')\n",
    "joinDate['yelpJoinDate'] = joinDate['yelpJoinDate'].replace('July 2008', '2008.07')\n",
    "joinDate['yelpJoinDate'] = joinDate['yelpJoinDate'].replace('August 2008', '2008.08')\n",
    "joinDate['yelpJoinDate'] = joinDate['yelpJoinDate'].replace('September 2008', '2008.09')\n",
    "joinDate['yelpJoinDate'] = joinDate['yelpJoinDate'].replace('October 2008', '2008.10')\n",
    "joinDate['yelpJoinDate'] = joinDate['yelpJoinDate'].replace('November 2008', '2008.11')\n",
    "joinDate['yelpJoinDate'] = joinDate['yelpJoinDate'].replace('December 2008', '2008.12')\n",
    "\n",
    "joinDate['yelpJoinDate'] = joinDate['yelpJoinDate'].replace('January 2009', '2009.01')\n",
    "joinDate['yelpJoinDate'] = joinDate['yelpJoinDate'].replace('February 2009', '2009.02')\n",
    "joinDate['yelpJoinDate'] = joinDate['yelpJoinDate'].replace('March 2009', '2009.03')\n",
    "joinDate['yelpJoinDate'] = joinDate['yelpJoinDate'].replace('April 2009', '2009.04')\n",
    "joinDate['yelpJoinDate'] = joinDate['yelpJoinDate'].replace('May 2009', '2009.05')\n",
    "joinDate['yelpJoinDate'] = joinDate['yelpJoinDate'].replace('June 2009', '2009.06')\n",
    "joinDate['yelpJoinDate'] = joinDate['yelpJoinDate'].replace('July 2009', '2009.07')\n",
    "joinDate['yelpJoinDate'] = joinDate['yelpJoinDate'].replace('August 2009', '2009.08')\n",
    "joinDate['yelpJoinDate'] = joinDate['yelpJoinDate'].replace('September 2009', '2009.09')\n",
    "joinDate['yelpJoinDate'] = joinDate['yelpJoinDate'].replace('October 2009', '2009.10')\n",
    "joinDate['yelpJoinDate'] = joinDate['yelpJoinDate'].replace('November 2009', '2009.11')\n",
    "joinDate['yelpJoinDate'] = joinDate['yelpJoinDate'].replace('December 2009', '2009.12')\n",
    "\n",
    "joinDate['yelpJoinDate'] = joinDate['yelpJoinDate'].replace('January 2010', '2010.01')\n",
    "joinDate['yelpJoinDate'] = joinDate['yelpJoinDate'].replace('February 2010', '2010.02')\n",
    "joinDate['yelpJoinDate'] = joinDate['yelpJoinDate'].replace('March 2010', '2010.03')\n",
    "joinDate['yelpJoinDate'] = joinDate['yelpJoinDate'].replace('April 2010', '2010.04')\n",
    "joinDate['yelpJoinDate'] = joinDate['yelpJoinDate'].replace('May 2010', '2010.05')\n",
    "joinDate['yelpJoinDate'] = joinDate['yelpJoinDate'].replace('June 2010', '2010.06')\n",
    "joinDate['yelpJoinDate'] = joinDate['yelpJoinDate'].replace('July 2010', '2010.07')\n",
    "joinDate['yelpJoinDate'] = joinDate['yelpJoinDate'].replace('August 2010', '2010.08')\n",
    "joinDate['yelpJoinDate'] = joinDate['yelpJoinDate'].replace('September 2010', '2010.09')\n",
    "joinDate['yelpJoinDate'] = joinDate['yelpJoinDate'].replace('October 2010', '2010.10')\n",
    "joinDate['yelpJoinDate'] = joinDate['yelpJoinDate'].replace('November 2010', '2010.11')\n",
    "joinDate['yelpJoinDate'] = joinDate['yelpJoinDate'].replace('December 2010', '2010.12')\n",
    "\n",
    "joinDate['yelpJoinDate'] = joinDate['yelpJoinDate'].replace('January 2011', '2011.01')\n",
    "joinDate['yelpJoinDate'] = joinDate['yelpJoinDate'].replace('February 2011', '2011.02')\n",
    "joinDate['yelpJoinDate'] = joinDate['yelpJoinDate'].replace('March 2011', '2011.03')\n",
    "joinDate['yelpJoinDate'] = joinDate['yelpJoinDate'].replace('April 2011', '2011.04')\n",
    "joinDate['yelpJoinDate'] = joinDate['yelpJoinDate'].replace('May 2011', '2011.05')\n",
    "joinDate['yelpJoinDate'] = joinDate['yelpJoinDate'].replace('June 2011', '2011.06')\n",
    "joinDate['yelpJoinDate'] = joinDate['yelpJoinDate'].replace('July 2011', '2011.07')\n",
    "joinDate['yelpJoinDate'] = joinDate['yelpJoinDate'].replace('August 2011', '2011.08')\n",
    "joinDate['yelpJoinDate'] = joinDate['yelpJoinDate'].replace('September 2011', '2011.09')\n",
    "joinDate['yelpJoinDate'] = joinDate['yelpJoinDate'].replace('October 2011', '2011.10')\n",
    "joinDate['yelpJoinDate'] = joinDate['yelpJoinDate'].replace('November 2011', '2011.11')\n",
    "joinDate['yelpJoinDate'] = joinDate['yelpJoinDate'].replace('December 2011', '2011.12')\n",
    "\n",
    "joinDate['yelpJoinDate'] = joinDate['yelpJoinDate'].replace('January 2012', '2012.01')\n",
    "joinDate['yelpJoinDate'] = joinDate['yelpJoinDate'].replace('February 2012', '2012.02')\n",
    "joinDate['yelpJoinDate'] = joinDate['yelpJoinDate'].replace('March 2012', '2012.03')\n",
    "joinDate['yelpJoinDate'] = joinDate['yelpJoinDate'].replace('April 2012', '2012.04')\n",
    "joinDate['yelpJoinDate'] = joinDate['yelpJoinDate'].replace('May 2012', '2012.05')\n",
    "joinDate['yelpJoinDate'] = joinDate['yelpJoinDate'].replace('June 2012', '2012.06')\n",
    "joinDate['yelpJoinDate'] = joinDate['yelpJoinDate'].replace('July 2012', '2012.07')\n",
    "joinDate['yelpJoinDate'] = joinDate['yelpJoinDate'].replace('August 2012', '2012.08')\n",
    "joinDate['yelpJoinDate'] = joinDate['yelpJoinDate'].replace('September 2012', '2012.09')\n"
   ]
  },
  {
   "cell_type": "markdown",
   "metadata": {},
   "source": [
    "**Join date**"
   ]
  },
  {
   "cell_type": "code",
   "execution_count": 3,
   "metadata": {},
   "outputs": [
    {
     "name": "stdout",
     "output_type": "stream",
     "text": [
      "[(0, 'reviewerID', 'VARCHAR2(30)', 0, None, 0), (1, 'name', 'VARCHAR2(30)', 0, None, 0), (2, 'location', 'VARCHAR2(30)', 0, None, 0), (3, 'yelpJoinDate', 'VARCHAR2(10)', 0, None, 0), (4, 'friendCount', 'INT', 0, None, 0), (5, 'reviewCount', 'INT', 0, None, 0), (6, 'firstCount', 'INT', 0, None, 0), (7, 'usefulCount', 'INT', 0, None, 0), (8, 'coolCount', 'INT', 0, None, 0), (9, 'funnyCount', 'INT', 0, None, 0), (10, 'complimentCount', 'INT', 0, None, 0), (11, 'tipCount', 'INT', 0, None, 0), (12, 'fanCount', 'INT', 0, None, 0)]\n",
      "[(0, 'date', 'varchar2(30)', 0, None, 0), (1, 'reviewID', 'varchar2(30)', 0, None, 1), (2, 'reviewerID', 'varchar2(30)', 0, None, 0), (3, 'reviewContent', 'varchar2(800)', 0, None, 0), (4, 'rating', 'INT', 0, None, 0), (5, 'usefulCount', 'INT', 0, None, 0), (6, 'coolCount', 'INT', 0, None, 0), (7, 'funnyCount', 'INT', 0, None, 0), (8, 'flagged', 'varchar2(3)', 0, None, 0), (9, 'restaurantID', 'varchar2(30)', 0, None, 0)]\n",
      "number of reviewers for hotel: 5123\n",
      "number of reviewers for res: 16941\n",
      "number of valid reviews for hotel: 5858\n",
      "number of valid reviews for res: 67019\n"
     ]
    }
   ],
   "source": [
    "c2.execute(\"PRAGMA table_info(reviewer)\")\n",
    "print(c2.fetchall())\n",
    "c2.execute(\"PRAGMA table_info(review)\")\n",
    "print(c2.fetchall())\n",
    "c1.execute('select count(*) from reviewer')\n",
    "print(\"number of reviewers for hotel:\",c1.fetchall()[0][0])\n",
    "c2.execute('select count(*) from reviewer')\n",
    "print(\"number of reviewers for res:\",c2.fetchall()[0][0])\n",
    "c1.execute(\"select count(*) from review where flagged='N' or flagged= 'Y' \")\n",
    "print(\"number of valid reviews for hotel:\",c1.fetchall()[0][0])\n",
    "c2.execute(\"select count(*) from review where flagged='N' or flagged= 'Y' \")\n",
    "print(\"number of valid reviews for res:\",c2.fetchall()[0][0])"
   ]
  },
  {
   "cell_type": "code",
   "execution_count": 4,
   "metadata": {},
   "outputs": [
    {
     "name": "stdout",
     "output_type": "stream",
     "text": [
      "number of non-filtered reviews for hotel: 5078\n",
      "number of filtered reviews for hotel: 780\n",
      "number of non-filtered reviews for res: 58716\n",
      "number of filtered reviews for res: 8303\n"
     ]
    }
   ],
   "source": [
    "c1.execute(\"select count(*) from review where flagged='N'\")\n",
    "print(\"number of non-filtered reviews for hotel:\",c1.fetchall()[0][0])\n",
    "c1.execute(\"select count(*) from review where flagged='Y'\")\n",
    "print(\"number of filtered reviews for hotel:\",c1.fetchall()[0][0])\n",
    "\n",
    "c2.execute(\"select count(*) from review where flagged='N'\")\n",
    "print(\"number of non-filtered reviews for res:\",c2.fetchall()[0][0])\n",
    "c2.execute(\"select count(*) from review where flagged='Y'\")\n",
    "print(\"number of filtered reviews for res:\",c2.fetchall()[0][0])"
   ]
  },
  {
   "cell_type": "code",
   "execution_count": 5,
   "metadata": {
    "collapsed": true
   },
   "outputs": [],
   "source": [
    "c2.execute('select * from reviewer')\n",
    "reviewer=pd.DataFrame(c2.fetchall(), columns = [i[0] for i in c2.description])\n"
   ]
  },
  {
   "cell_type": "code",
   "execution_count": 6,
   "metadata": {
    "collapsed": true
   },
   "outputs": [],
   "source": [
    "c2.execute(\"select reviewerID, reviewID,restaurantID, date, rating,usefulCount as usefulCount_review,flagged  from review where flagged='Y' or flagged='N'\")\n",
    "review_info=pd.DataFrame(c2.fetchall(), columns = [i[0] for i in c2.description])"
   ]
  },
  {
   "cell_type": "markdown",
   "metadata": {},
   "source": [
    "35029 reviewers have "
   ]
  },
  {
   "cell_type": "code",
   "execution_count": null,
   "metadata": {
    "collapsed": true
   },
   "outputs": [],
   "source": []
  },
  {
   "cell_type": "markdown",
   "metadata": {},
   "source": [
    "**restaurant related info**"
   ]
  },
  {
   "cell_type": "code",
   "execution_count": 7,
   "metadata": {},
   "outputs": [
    {
     "name": "stdout",
     "output_type": "stream",
     "text": [
      "[]\n",
      "[(0, 'reviewerID', 'VARCHAR2(30)', 0, None, 0), (1, 'name', 'VARCHAR2(30)', 0, None, 0), (2, 'location', 'VARCHAR2(30)', 0, None, 0), (3, 'yelpJoinDate', 'VARCHAR2(10)', 0, None, 0), (4, 'friendCount', 'INT', 0, None, 0), (5, 'reviewCount', 'INT', 0, None, 0), (6, 'firstCount', 'INT', 0, None, 0), (7, 'usefulCount', 'INT', 0, None, 0), (8, 'coolCount', 'INT', 0, None, 0), (9, 'funnyCount', 'INT', 0, None, 0), (10, 'complimentCount', 'INT', 0, None, 0), (11, 'tipCount', 'INT', 0, None, 0), (12, 'fanCount', 'INT', 0, None, 0)]\n",
      "[(0, 'date', 'varchar2(30)', 0, None, 0), (1, 'reviewID', 'varchar2(30)', 0, None, 1), (2, 'reviewerID', 'varchar2(30)', 0, None, 0), (3, 'reviewContent', 'varchar2(800)', 0, None, 0), (4, 'rating', 'INT', 0, None, 0), (5, 'usefulCount', 'INT', 0, None, 0), (6, 'coolCount', 'INT', 0, None, 0), (7, 'funnyCount', 'INT', 0, None, 0), (8, 'flagged', 'varchar2(3)', 0, None, 0), (9, 'restaurantID', 'varchar2(30)', 0, None, 0)]\n"
     ]
    }
   ],
   "source": [
    "print(c2.fetchall())\n",
    "c2.execute(\"PRAGMA table_info(reviewer)\")\n",
    "print(c2.fetchall())\n",
    "c2.execute(\"PRAGMA table_info(review)\")\n",
    "print(c2.fetchall())"
   ]
  },
  {
   "cell_type": "code",
   "execution_count": 8,
   "metadata": {
    "collapsed": true
   },
   "outputs": [],
   "source": [
    "c2.execute('select restaurantID,location,reviewCount,rating,categories,GoodFor,filReviewCount from restaurant')\n",
    "resInfo=pd.DataFrame(c2.fetchall(), columns = [i[0] for i in c2.description])"
   ]
  },
  {
   "cell_type": "code",
   "execution_count": 9,
   "metadata": {
    "collapsed": true
   },
   "outputs": [],
   "source": [
    "c2.execute(\"select reviewerID, reviewID,restaurantID, date, rating,usefulCount as usefulCount_review,flagged,reviewContent  from review where flagged='Y' or flagged='N'\")\n",
    "review_info=pd.DataFrame(c2.fetchall(), columns = [i[0] for i in c2.description])"
   ]
  },
  {
   "cell_type": "code",
   "execution_count": 10,
   "metadata": {
    "collapsed": true
   },
   "outputs": [],
   "source": [
    "#review_res=pd.merge(resInfo,review_info,on='restaurantID',how='inner')\n",
    "#res_num=review_res.restaurantID.unique()\n",
    "#res_temporal=review_res[['restaurantID','reviewCount','rating_x','reviewID','date','rating_y','flagged']]\n",
    "# res_falgged_rev=res_temporal[res_temporal['flagged']=='Y']"
   ]
  },
  {
   "cell_type": "code",
   "execution_count": 11,
   "metadata": {},
   "outputs": [
    {
     "name": "stderr",
     "output_type": "stream",
     "text": [
      "c:\\python36\\lib\\site-packages\\ipykernel_launcher.py:7: SettingWithCopyWarning: \n",
      "A value is trying to be set on a copy of a slice from a DataFrame\n",
      "\n",
      "See the caveats in the documentation: http://pandas.pydata.org/pandas-docs/stable/indexing.html#indexing-view-versus-copy\n",
      "  import sys\n"
     ]
    }
   ],
   "source": [
    "#res_flagged_sorted=res_falgged_rev.groupby([\"restaurantID\"], sort=False).apply(lambda x: x.sort_values([\"date\"]))\n",
    "#res_flagged_sorted['date'][0]\n",
    "lst1=[]\n",
    "lst2=[]\n",
    "for i in range(len(review_info['date'])):\n",
    "    if review_info['date'][i][0]=='\\n':\n",
    "        review_info['date'][i]=review_info['date'][i][1:]\n",
    "    if review_info['date'][i][0]=='U':\n",
    "        lst2.append(i)\n"
   ]
  },
  {
   "cell_type": "code",
   "execution_count": 12,
   "metadata": {
    "collapsed": true
   },
   "outputs": [],
   "source": [
    "#review_info['date']=pd.to_datetime(review_info['date'])"
   ]
  },
  {
   "cell_type": "code",
   "execution_count": 1,
   "metadata": {
    "collapsed": true
   },
   "outputs": [],
   "source": [
    "res_flagged_sorted=review_info.groupby([\"restaurantID\"], sort=False).apply(lambda x: x.sort_values([\"date\"]))"
   ]
  },
  {
   "cell_type": "code",
   "execution_count": 15,
   "metadata": {
    "collapsed": true
   },
   "outputs": [],
   "source": [
    "grouped = review_info.groupby(\"reviewerID\")"
   ]
  },
  {
   "cell_type": "code",
   "execution_count": 18,
   "metadata": {
    "collapsed": true
   },
   "outputs": [],
   "source": [
    "reviewerID_lst= review_info.reviewerID.unique().tolist()"
   ]
  },
  {
   "cell_type": "code",
   "execution_count": 21,
   "metadata": {},
   "outputs": [
    {
     "data": {
      "text/plain": [
       "[871, 358]"
      ]
     },
     "execution_count": 21,
     "metadata": {},
     "output_type": "execute_result"
    }
   ],
   "source": [
    "lst = grouped.get_group(\"bNYesZ944s6IJVowOnB0iA\").reviewContent.values.tolist()\n",
    "word_cnt = list(map(lambda _:len(_.split()),lst))\n",
    "word_cnt"
   ]
  },
  {
   "cell_type": "code",
   "execution_count": 23,
   "metadata": {
    "scrolled": true
   },
   "outputs": [
    {
     "data": {
      "text/html": [
       "<div>\n",
       "<style>\n",
       "    .dataframe thead tr:only-child th {\n",
       "        text-align: right;\n",
       "    }\n",
       "\n",
       "    .dataframe thead th {\n",
       "        text-align: left;\n",
       "    }\n",
       "\n",
       "    .dataframe tbody tr th {\n",
       "        vertical-align: top;\n",
       "    }\n",
       "</style>\n",
       "<table border=\"1\" class=\"dataframe\">\n",
       "  <thead>\n",
       "    <tr style=\"text-align: right;\">\n",
       "      <th></th>\n",
       "      <th>reviewerID</th>\n",
       "      <th>reviewID</th>\n",
       "      <th>restaurantID</th>\n",
       "      <th>date</th>\n",
       "      <th>rating</th>\n",
       "      <th>usefulCount_review</th>\n",
       "      <th>flagged</th>\n",
       "      <th>reviewContent</th>\n",
       "    </tr>\n",
       "  </thead>\n",
       "  <tbody>\n",
       "    <tr>\n",
       "      <th>0</th>\n",
       "      <td>bNYesZ944s6IJVowOnB0iA</td>\n",
       "      <td>GtwU21YOQn-wf4vWRUIx6w</td>\n",
       "      <td>pbEiXam9YJL3neCYHGwLUA</td>\n",
       "      <td>9/22/2012</td>\n",
       "      <td>5</td>\n",
       "      <td>0</td>\n",
       "      <td>N</td>\n",
       "      <td>Unlike Next, which we'd eaten at the previous ...</td>\n",
       "    </tr>\n",
       "    <tr>\n",
       "      <th>1</th>\n",
       "      <td>TRKxLC3y-ZvP45e5iilMtw</td>\n",
       "      <td>0LpVTc3</td>\n",
       "      <td>pbEiXam9YJL3neCYHGwLUA</td>\n",
       "      <td>9/22/2012</td>\n",
       "      <td>5</td>\n",
       "      <td>0</td>\n",
       "      <td>N</td>\n",
       "      <td>Probably one of the best meals I've had ever. ...</td>\n",
       "    </tr>\n",
       "    <tr>\n",
       "      <th>2</th>\n",
       "      <td>0EMm8umAqXZzyhxNpL4M9g</td>\n",
       "      <td>tljtLzf68Fkwf</td>\n",
       "      <td>pbEiXam9YJL3neCYHGwLUA</td>\n",
       "      <td>9/19/2012</td>\n",
       "      <td>3</td>\n",
       "      <td>2</td>\n",
       "      <td>N</td>\n",
       "      <td>Service was impeccable. Experience and present...</td>\n",
       "    </tr>\n",
       "    <tr>\n",
       "      <th>3</th>\n",
       "      <td>DlwexC7z88ymAzu45skODw</td>\n",
       "      <td>iSN</td>\n",
       "      <td>pbEiXam9YJL3neCYHGwLUA</td>\n",
       "      <td>9/6/2012</td>\n",
       "      <td>3</td>\n",
       "      <td>8</td>\n",
       "      <td>N</td>\n",
       "      <td>The problem with places like this, given the e...</td>\n",
       "    </tr>\n",
       "    <tr>\n",
       "      <th>4</th>\n",
       "      <td>kW2dk1CWihmh3g7k9N2G8A</td>\n",
       "      <td>Jmwrh7</td>\n",
       "      <td>pbEiXam9YJL3neCYHGwLUA</td>\n",
       "      <td>9/9/2012</td>\n",
       "      <td>5</td>\n",
       "      <td>1</td>\n",
       "      <td>N</td>\n",
       "      <td>I have no idea how to write my review - dining...</td>\n",
       "    </tr>\n",
       "  </tbody>\n",
       "</table>\n",
       "</div>"
      ],
      "text/plain": [
       "               reviewerID                reviewID            restaurantID  \\\n",
       "0  bNYesZ944s6IJVowOnB0iA  GtwU21YOQn-wf4vWRUIx6w  pbEiXam9YJL3neCYHGwLUA   \n",
       "1  TRKxLC3y-ZvP45e5iilMtw                 0LpVTc3  pbEiXam9YJL3neCYHGwLUA   \n",
       "2  0EMm8umAqXZzyhxNpL4M9g           tljtLzf68Fkwf  pbEiXam9YJL3neCYHGwLUA   \n",
       "3  DlwexC7z88ymAzu45skODw                     iSN  pbEiXam9YJL3neCYHGwLUA   \n",
       "4  kW2dk1CWihmh3g7k9N2G8A                  Jmwrh7  pbEiXam9YJL3neCYHGwLUA   \n",
       "\n",
       "        date  rating  usefulCount_review flagged  \\\n",
       "0  9/22/2012       5                   0       N   \n",
       "1  9/22/2012       5                   0       N   \n",
       "2  9/19/2012       3                   2       N   \n",
       "3   9/6/2012       3                   8       N   \n",
       "4   9/9/2012       5                   1       N   \n",
       "\n",
       "                                       reviewContent  \n",
       "0  Unlike Next, which we'd eaten at the previous ...  \n",
       "1  Probably one of the best meals I've had ever. ...  \n",
       "2  Service was impeccable. Experience and present...  \n",
       "3  The problem with places like this, given the e...  \n",
       "4  I have no idea how to write my review - dining...  "
      ]
     },
     "execution_count": 23,
     "metadata": {},
     "output_type": "execute_result"
    }
   ],
   "source": [
    "review_info.head()"
   ]
  },
  {
   "cell_type": "code",
   "execution_count": 24,
   "metadata": {
    "collapsed": true
   },
   "outputs": [],
   "source": [
    "# for index, ID in enumerate(reviewerID_lst):\n",
    "#     print(index, len(reviewerID_lst), index/len(reviewerID_lst))\n",
    "#     df_ID = grouped.get_group(ID)\n",
    "#     review_ID = df_ID.reviewContent.values.tolist()\n",
    "#     wordcnt_lst = list(map(lambda _:len(_.split()),review_ID))\n",
    "#     ave_reviewlen[ID] = sum(wordcnt_lst)/len(wordcnt_lst)"
   ]
  },
  {
   "cell_type": "code",
   "execution_count": 25,
   "metadata": {
    "collapsed": true
   },
   "outputs": [],
   "source": [
    "# ave_reviewlen"
   ]
  },
  {
   "cell_type": "code",
   "execution_count": 26,
   "metadata": {
    "collapsed": true
   },
   "outputs": [],
   "source": [
    "# max_reviewsim = dict.fromkeys(reviewerID_lst)"
   ]
  },
  {
   "cell_type": "code",
   "execution_count": 27,
   "metadata": {},
   "outputs": [
    {
     "data": {
      "text/plain": [
       "0.8616404368553293"
      ]
     },
     "execution_count": 27,
     "metadata": {},
     "output_type": "execute_result"
    }
   ],
   "source": [
    "import re, math\n",
    "from collections import Counter\n",
    "\n",
    "WORD = re.compile(r'\\w+')\n",
    "\n",
    "def get_cosine(text1, text2):\n",
    "    vec1 = Counter(WORD.findall(text1))\n",
    "    vec2 = Counter(WORD.findall(text2))\n",
    "    intersection = set(vec1.keys()) & set(vec2.keys())\n",
    "    numerator = sum([vec1[x] * vec2[x] for x in intersection])\n",
    "\n",
    "    sum1 = sum([vec1[x]**2 for x in vec1.keys()])\n",
    "    sum2 = sum([vec2[x]**2 for x in vec2.keys()])\n",
    "    denominator = math.sqrt(sum1) * math.sqrt(sum2)\n",
    "\n",
    "    if not denominator:\n",
    "        return 0.0\n",
    "    else:\n",
    "        return float(numerator) / denominator\n",
    "\n",
    "\n",
    "text1 = 'This is a foo bar sentence .'\n",
    "text2 = 'This sentence is similar to a foo bar sentence .'\n",
    "\n",
    "get_cosine(text1, text2)"
   ]
  },
  {
   "cell_type": "code",
   "execution_count": 28,
   "metadata": {
    "collapsed": true
   },
   "outputs": [],
   "source": [
    "# # all_sim_lst = []\n",
    "# for index, ID in enumerate(reviewerID_lst):\n",
    "#     print(index, len(reviewerID_lst), index/len(reviewerID_lst))\n",
    "#     df_ID = grouped.get_group(ID)\n",
    "#     review_ID = df_ID.reviewContent.values.tolist()\n",
    "#     comb = combinations(review_ID, 2)\n",
    "#     comb_lst = list(comb)\n",
    "#     sim_lst = list(map(lambda _:get_cosine(_[0],_[1]), comb_lst))\n",
    "# #     if len(sim_lst) > 0:\n",
    "# #         all_sim_lst.append(max(sim_lst))\n",
    "#     max_reviewsim[ID] = max(sim_lst) if len(sim_lst)>0 else 0.4886"
   ]
  },
  {
   "cell_type": "code",
   "execution_count": 31,
   "metadata": {
    "collapsed": true
   },
   "outputs": [],
   "source": [
    "ave_reviewlen = dict.fromkeys(reviewerID_lst)\n",
    "max_reviewsim = dict.fromkeys(reviewerID_lst)\n",
    "extreme_rating = dict.fromkeys(reviewerID_lst)\n",
    "maximum_review = dict.fromkeys(reviewerID_lst)"
   ]
  },
  {
   "cell_type": "code",
   "execution_count": null,
   "metadata": {},
   "outputs": [],
   "source": [
    "for index, ID in enumerate(reviewerID_lst):\n",
    "    print(index, len(reviewerID_lst), index/len(reviewerID_lst))\n",
    "    df_ID = grouped.get_group(ID)\n",
    "    \n",
    "    review_ID = df_ID.reviewContent.values.tolist()\n",
    "    wordcnt_lst = list(map(lambda _:len(_.split()),review_ID))\n",
    "    ave_reviewlen[ID] = sum(wordcnt_lst)/len(wordcnt_lst)\n",
    "    \n",
    "    comb = combinations(review_ID, 2)\n",
    "    comb_lst = list(comb)\n",
    "    sim_lst = list(map(lambda _:get_cosine(_[0],_[1]), comb_lst))\n",
    "#     if len(sim_lst) > 0:\n",
    "#         all_sim_lst.append(max(sim_lst))\n",
    "    max_reviewsim[ID] = max(sim_lst) if len(sim_lst)>0 else 0.4886\n",
    "    \n",
    "    \n",
    "    rating_ID = df_ID.rating.values.tolist()\n",
    "    extreme_rating[ID] = (rating_ID.count(1)+rating_ID.count(5))/len(rating_ID)\n",
    "    \n",
    "    date_ID = df_ID.date.values.tolist()\n",
    "    most_common,num_most_common = Counter(date_ID).most_common(1)[0] # 4, 6 times\n",
    "    maximum_review[ID] = num_most_common\n",
    "    "
   ]
  },
  {
   "cell_type": "code",
   "execution_count": null,
   "metadata": {},
   "outputs": [],
   "source": [
    "grouped_Res = review_info.groupby(\"restaurantID\")\n",
    "restaurantID_lst= review_info.restaurantID.unique().tolist()\n",
    "restaurant_rating_ave= dict.fromkeys(restaurantID_lst)\n",
    "# restaurant_rating_std= dict.fromkeys(restaurantID_lst)\n",
    "\n",
    "for index,resID in enumerate(restaurantID_lst):\n",
    "    print(index, len(restaurantID_lst), index/len(restaurantID_lst))\n",
    "    df_ResID = grouped_Res.get_group(resID)\n",
    "    rating_lst = df_ResID.rating.values.tolist()\n",
    "    restaurant_rating_ave[resID] = statistics.mean(rating_lst)\n",
    "#     restaurant_rating_std[resID] = statistics.stdev(rating_lst)"
   ]
  },
  {
   "cell_type": "code",
   "execution_count": 34,
   "metadata": {},
   "outputs": [
    {
     "data": {
      "text/plain": [
       "0.5363408521303258"
      ]
     },
     "execution_count": 34,
     "metadata": {},
     "output_type": "execute_result"
    }
   ],
   "source": [
    "def get_time_ratio(curr_date,res_ID):\n",
    "    df_ResID = grouped_Res.get_group(resID)\n",
    "#     date_lst = [datetime.strptime(x, '%m/%d/%Y') for x in df_ResID.date.values.tolist()]\n",
    "    sortedArray = sorted([datetime.strptime(x, '%m/%d/%Y') \n",
    "                          for x in grouped_Res.get_group(res_ID).date.values.tolist()],\n",
    "                         reverse=True)\n",
    "    curr_date_con = dparser.parse(curr_date,fuzzy=True)\n",
    "    return sortedArray.index(curr_date_con)/(len(sortedArray)-1)\n",
    "    \n",
    "get_time_ratio('9/19/2009','1QKqtC4vML3QhkrSzwR_tQ')    "
   ]
  },
  {
   "cell_type": "code",
   "execution_count": 35,
   "metadata": {},
   "outputs": [
    {
     "data": {
      "text/html": [
       "<div>\n",
       "<style>\n",
       "    .dataframe thead tr:only-child th {\n",
       "        text-align: right;\n",
       "    }\n",
       "\n",
       "    .dataframe thead th {\n",
       "        text-align: left;\n",
       "    }\n",
       "\n",
       "    .dataframe tbody tr th {\n",
       "        vertical-align: top;\n",
       "    }\n",
       "</style>\n",
       "<table border=\"1\" class=\"dataframe\">\n",
       "  <thead>\n",
       "    <tr style=\"text-align: right;\">\n",
       "      <th></th>\n",
       "      <th>reviewerID</th>\n",
       "      <th>averageDaysBetweenReviews</th>\n",
       "      <th>reviewID</th>\n",
       "      <th>restaurantID</th>\n",
       "      <th>date</th>\n",
       "      <th>rating</th>\n",
       "      <th>usefulCount_review</th>\n",
       "      <th>flagged</th>\n",
       "      <th>name</th>\n",
       "      <th>location</th>\n",
       "      <th>yelpJoinDate</th>\n",
       "      <th>friendCount</th>\n",
       "      <th>reviewCount</th>\n",
       "      <th>firstCount</th>\n",
       "      <th>usefulCount</th>\n",
       "      <th>coolCount</th>\n",
       "      <th>funnyCount</th>\n",
       "      <th>complimentCount</th>\n",
       "      <th>tipCount</th>\n",
       "      <th>fanCount</th>\n",
       "    </tr>\n",
       "  </thead>\n",
       "  <tbody>\n",
       "    <tr>\n",
       "      <th>0</th>\n",
       "      <td>--1-HgcfL1vWbG-1hgn1oA</td>\n",
       "      <td>0.0</td>\n",
       "      <td>4CRMiMVwb76eAW-z04rMcg</td>\n",
       "      <td>43rd1LKcZRIunySzbMsyLQ</td>\n",
       "      <td>8/14/2012</td>\n",
       "      <td>4</td>\n",
       "      <td>0</td>\n",
       "      <td>Y</td>\n",
       "      <td>Mike T.</td>\n",
       "      <td>Monroe Charter Township, MI</td>\n",
       "      <td>August 2012</td>\n",
       "      <td>0</td>\n",
       "      <td>1</td>\n",
       "      <td>0</td>\n",
       "      <td>0</td>\n",
       "      <td>0</td>\n",
       "      <td>0</td>\n",
       "      <td>0</td>\n",
       "      <td>0</td>\n",
       "      <td>0</td>\n",
       "    </tr>\n",
       "    <tr>\n",
       "      <th>1</th>\n",
       "      <td>--AGQM8GPHljgKdnLisXgQ</td>\n",
       "      <td>0.0</td>\n",
       "      <td>fJVUNKK6kf0E5NmAx77veQ</td>\n",
       "      <td>JDNZxz0ud7zhuPo5pqznMA</td>\n",
       "      <td>8/22/2008</td>\n",
       "      <td>5</td>\n",
       "      <td>0</td>\n",
       "      <td>Y</td>\n",
       "      <td>ilona p.</td>\n",
       "      <td>Chicago, IL</td>\n",
       "      <td>August 2008</td>\n",
       "      <td>0</td>\n",
       "      <td>2</td>\n",
       "      <td>0</td>\n",
       "      <td>1</td>\n",
       "      <td>1</td>\n",
       "      <td>1</td>\n",
       "      <td>0</td>\n",
       "      <td>0</td>\n",
       "      <td>0</td>\n",
       "    </tr>\n",
       "    <tr>\n",
       "      <th>2</th>\n",
       "      <td>--KQJPdrU0Md97DiOliDzw</td>\n",
       "      <td>0.0</td>\n",
       "      <td>B9wU9jj18OevQAdJQBMXeA</td>\n",
       "      <td>pbEiXam9YJL3neCYHGwLUA</td>\n",
       "      <td>8/20/2011</td>\n",
       "      <td>5</td>\n",
       "      <td>3</td>\n",
       "      <td>N</td>\n",
       "      <td>Steven C.</td>\n",
       "      <td>Bellerose, NY</td>\n",
       "      <td>January 2006</td>\n",
       "      <td>87</td>\n",
       "      <td>163</td>\n",
       "      <td>9</td>\n",
       "      <td>277</td>\n",
       "      <td>169</td>\n",
       "      <td>140</td>\n",
       "      <td>135</td>\n",
       "      <td>13</td>\n",
       "      <td>5</td>\n",
       "    </tr>\n",
       "    <tr>\n",
       "      <th>3</th>\n",
       "      <td>--KXo_HCYq9hB8NOdEUMKw</td>\n",
       "      <td>0.0</td>\n",
       "      <td>aEgrHJc7N8GKJBe-DND2Ow</td>\n",
       "      <td>1QKqtC4vML3QhkrSzwR_tQ</td>\n",
       "      <td>4/22/2010</td>\n",
       "      <td>4</td>\n",
       "      <td>0</td>\n",
       "      <td>N</td>\n",
       "      <td>Megan MJ J.</td>\n",
       "      <td>Chicago, IL</td>\n",
       "      <td>April 2010</td>\n",
       "      <td>12</td>\n",
       "      <td>4</td>\n",
       "      <td>0</td>\n",
       "      <td>1</td>\n",
       "      <td>1</td>\n",
       "      <td>0</td>\n",
       "      <td>1</td>\n",
       "      <td>0</td>\n",
       "      <td>1</td>\n",
       "    </tr>\n",
       "    <tr>\n",
       "      <th>4</th>\n",
       "      <td>--Qh8yKWAvIP4V4K8ZPfHA</td>\n",
       "      <td>0.0</td>\n",
       "      <td>mm26KzGsXoecG5djCP9U9g</td>\n",
       "      <td>4wreIFjaPMppyEnzKHbozg</td>\n",
       "      <td>4/12/2012</td>\n",
       "      <td>5</td>\n",
       "      <td>0</td>\n",
       "      <td>N</td>\n",
       "      <td>Dixie cream tea Q.</td>\n",
       "      <td>Toronto, ON</td>\n",
       "      <td>January 2011</td>\n",
       "      <td>15</td>\n",
       "      <td>161</td>\n",
       "      <td>21</td>\n",
       "      <td>80</td>\n",
       "      <td>56</td>\n",
       "      <td>32</td>\n",
       "      <td>50</td>\n",
       "      <td>20</td>\n",
       "      <td>2</td>\n",
       "    </tr>\n",
       "  </tbody>\n",
       "</table>\n",
       "</div>"
      ],
      "text/plain": [
       "               reviewerID  averageDaysBetweenReviews                reviewID  \\\n",
       "0  --1-HgcfL1vWbG-1hgn1oA                        0.0  4CRMiMVwb76eAW-z04rMcg   \n",
       "1  --AGQM8GPHljgKdnLisXgQ                        0.0  fJVUNKK6kf0E5NmAx77veQ   \n",
       "2  --KQJPdrU0Md97DiOliDzw                        0.0  B9wU9jj18OevQAdJQBMXeA   \n",
       "3  --KXo_HCYq9hB8NOdEUMKw                        0.0  aEgrHJc7N8GKJBe-DND2Ow   \n",
       "4  --Qh8yKWAvIP4V4K8ZPfHA                        0.0  mm26KzGsXoecG5djCP9U9g   \n",
       "\n",
       "             restaurantID       date  rating  usefulCount_review flagged  \\\n",
       "0  43rd1LKcZRIunySzbMsyLQ  8/14/2012       4                   0       Y   \n",
       "1  JDNZxz0ud7zhuPo5pqznMA  8/22/2008       5                   0       Y   \n",
       "2  pbEiXam9YJL3neCYHGwLUA  8/20/2011       5                   3       N   \n",
       "3  1QKqtC4vML3QhkrSzwR_tQ  4/22/2010       4                   0       N   \n",
       "4  4wreIFjaPMppyEnzKHbozg  4/12/2012       5                   0       N   \n",
       "\n",
       "                 name                     location  yelpJoinDate  friendCount  \\\n",
       "0             Mike T.  Monroe Charter Township, MI   August 2012            0   \n",
       "1            ilona p.                  Chicago, IL   August 2008            0   \n",
       "2           Steven C.                Bellerose, NY  January 2006           87   \n",
       "3         Megan MJ J.                  Chicago, IL    April 2010           12   \n",
       "4  Dixie cream tea Q.                  Toronto, ON  January 2011           15   \n",
       "\n",
       "   reviewCount  firstCount  usefulCount  coolCount  funnyCount  \\\n",
       "0            1           0            0          0           0   \n",
       "1            2           0            1          1           1   \n",
       "2          163           9          277        169         140   \n",
       "3            4           0            1          1           0   \n",
       "4          161          21           80         56          32   \n",
       "\n",
       "   complimentCount  tipCount  fanCount  \n",
       "0                0         0         0  \n",
       "1                0         0         0  \n",
       "2              135        13         5  \n",
       "3                1         0         1  \n",
       "4               50        20         2  "
      ]
     },
     "execution_count": 35,
     "metadata": {},
     "output_type": "execute_result"
    }
   ],
   "source": [
    "df = pd.read_csv(\"info.csv\",encoding = \"gb2312\",index_col=0)\n",
    "df.head(5)"
   ]
  },
  {
   "cell_type": "code",
   "execution_count": 36,
   "metadata": {
    "collapsed": true
   },
   "outputs": [],
   "source": [
    "lst_averevlen = []\n",
    "lst_maxrevsim = []\n",
    "lst_exerating = []\n",
    "lst_maxrevnum = []\n",
    "\n",
    "lst_ratingdev = []\n",
    "lst_earlyreview = []\n",
    "\n",
    "for index, row in  df.iterrows():\n",
    "    lst_averevlen.append(ave_reviewlen[row['reviewerID']])\n",
    "    lst_maxrevsim.append(max_reviewsim[row['reviewerID']])\n",
    "    lst_exerating.append(extreme_rating[row['reviewerID']])\n",
    "    lst_maxrevnum.append(maximum_review[row['reviewerID']])\n",
    "    \n",
    "    lst_ratingdev.append(abs(restaurant_rating_ave[row[\"restaurantID\"]]-row['rating']))\n",
    "    lst_earlyreview.append(get_time_ratio(row['date'],row['restaurantID']))\n",
    "\n",
    "df['AverageReviewLengthOfReviewer'] = lst_averevlen\n",
    "df['MaxReviewSimilarityOfReviewer'] = lst_maxrevsim\n",
    "df['ExetremeRatingRatioOfReviewer'] = lst_exerating\n",
    "df['MaxReviewNumsPerDayOfReviewer'] = lst_maxrevnum\n",
    "df['RatingDeviationFromMeanRating'] = lst_ratingdev\n",
    "df['TimeRatioOfReviewInAllReviews'] = lst_earlyreview\n",
    "    "
   ]
  },
  {
   "cell_type": "code",
   "execution_count": 77,
   "metadata": {},
   "outputs": [
    {
     "data": {
      "image/png": "[encoded data removed]",
      "text/plain": [
       "<matplotlib.figure.Figure at 0x1be891f0>"
      ]
     },
     "metadata": {},
     "output_type": "display_data"
    }
   ],
   "source": [
    "# df[\"RatingDeviationFromMeanRating\"].hist(bins=20, alpha=0.5)\n",
    "# df.loc[df['flagged'] == 'Y'][\"RatingDeviationFromMeanRating\"].hist(bins=20, alpha=0.5)\n",
    "fig1, ax = plt.subplots()\n",
    "df.loc[df['flagged'] == 'N'][\"RatingDeviationFromMeanRating\"].hist(bins=20, alpha=0.5)\n",
    "fig1.savefig('RatingDeviationFromMeanRating.png')"
   ]
  },
  {
   "cell_type": "code",
   "execution_count": 78,
   "metadata": {},
   "outputs": [
    {
     "data": {
      "image/png": "[encoded data removed]",
      "text/plain": [
       "<matplotlib.figure.Figure at 0x1be1e8d0>"
      ]
     },
     "metadata": {},
     "output_type": "display_data"
    }
   ],
   "source": [
    "fig2, ax = plt.subplots()\n",
    "df.loc[df['flagged'] == 'Y'][\"RatingDeviationFromMeanRating\"].hist(bins=20, alpha=0.5)\n",
    "fig2.savefig('RatingDeviationFromMeanRating.png')"
   ]
  },
  {
   "cell_type": "code",
   "execution_count": null,
   "metadata": {
    "collapsed": true
   },
   "outputs": [],
   "source": []
  }
 ],
 "metadata": {
  "kernelspec": {
   "display_name": "Python 3",
   "language": "python",
   "name": "python3"
  },
  "language_info": {
   "codemirror_mode": {
    "name": "ipython",
    "version": 3
   },
   "file_extension": ".py",
   "mimetype": "text/x-python",
   "name": "python",
   "nbconvert_exporter": "python",
   "pygments_lexer": "ipython3",
   "version": "3.6.3"
  }
 },
 "nbformat": 4,
 "nbformat_minor": 2
}
